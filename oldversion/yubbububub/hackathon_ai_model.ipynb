{
  "cells": [
    {
      "cell_type": "code",
      "execution_count": 1,
      "metadata": {
        "colab": {
          "base_uri": "https://localhost:8080/"
        },
        "id": "5HKpkuSVemiw",
        "outputId": "8a04a7dd-958a-46b9-c651-6948992e5ee4"
      },
      "outputs": [
        {
          "name": "stdout",
          "output_type": "stream",
          "text": [
            "Sat Nov 18 21:26:38 2023       \n",
            "+-----------------------------------------------------------------------------+\n",
            "| NVIDIA-SMI 525.105.17   Driver Version: 525.105.17   CUDA Version: 12.0     |\n",
            "|-------------------------------+----------------------+----------------------+\n",
            "| GPU  Name        Persistence-M| Bus-Id        Disp.A | Volatile Uncorr. ECC |\n",
            "| Fan  Temp  Perf  Pwr:Usage/Cap|         Memory-Usage | GPU-Util  Compute M. |\n",
            "|                               |                      |               MIG M. |\n",
            "|===============================+======================+======================|\n",
            "|   0  Tesla V100-SXM2...  Off  | 00000000:00:04.0 Off |                    0 |\n",
            "| N/A   32C    P0    23W / 300W |      0MiB / 16384MiB |      0%      Default |\n",
            "|                               |                      |                  N/A |\n",
            "+-------------------------------+----------------------+----------------------+\n",
            "                                                                               \n",
            "+-----------------------------------------------------------------------------+\n",
            "| Processes:                                                                  |\n",
            "|  GPU   GI   CI        PID   Type   Process name                  GPU Memory |\n",
            "|        ID   ID                                                   Usage      |\n",
            "|=============================================================================|\n",
            "|  No running processes found                                                 |\n",
            "+-----------------------------------------------------------------------------+\n"
          ]
        }
      ],
      "source": [
        " !nvidia-smi"
      ]
    },
    {
      "cell_type": "code",
      "execution_count": 2,
      "metadata": {
        "colab": {
          "base_uri": "https://localhost:8080/"
        },
        "id": "kYm-2Dh9fUYI",
        "outputId": "3707a38e-6961-4139-f03b-e2d999de4f2f"
      },
      "outputs": [
        {
          "name": "stdout",
          "output_type": "stream",
          "text": [
            "Mounted at /content/drive\n"
          ]
        }
      ],
      "source": [
        "import os\n",
        "from google.colab import drive\n",
        "drive.mount('/content/drive')\n",
        "data_path = '/content/drive/MyDrive/hackaathon_dataset/'"
      ]
    },
    {
      "cell_type": "code",
      "execution_count": 3,
      "metadata": {
        "colab": {
          "base_uri": "https://localhost:8080/"
        },
        "id": "QgAI6ofm4bLo",
        "outputId": "def8ca72-7ea0-406d-812f-9ea2bf430f1a"
      },
      "outputs": [
        {
          "name": "stdout",
          "output_type": "stream",
          "text": [
            "\u001b[2K     \u001b[90m━━━━━━━━━━━━━━━━━━━━━━━━━━━━━━━━━━━━━━━━\u001b[0m \u001b[32m261.2/261.2 kB\u001b[0m \u001b[31m4.5 MB/s\u001b[0m eta \u001b[36m0:00:00\u001b[0m\n",
            "\u001b[2K     \u001b[90m━━━━━━━━━━━━━━━━━━━━━━━━━━━━━━━━━━━━━━━━\u001b[0m \u001b[32m248.6/248.6 kB\u001b[0m \u001b[31m16.0 MB/s\u001b[0m eta \u001b[36m0:00:00\u001b[0m\n",
            "\u001b[2K     \u001b[90m━━━━━━━━━━━━━━━━━━━━━━━━━━━━━━━━━━━━━━━━\u001b[0m \u001b[32m1.6/1.6 MB\u001b[0m \u001b[31m20.4 MB/s\u001b[0m eta \u001b[36m0:00:00\u001b[0m\n",
            "\u001b[?25h"
          ]
        }
      ],
      "source": [
        "!pip install ultralytics==8.0.20 --quiet"
      ]
    },
    {
      "cell_type": "markdown",
      "metadata": {
        "id": "A-JWgWtNc5JH"
      },
      "source": []
    },
    {
      "cell_type": "code",
      "execution_count": 4,
      "metadata": {
        "id": "63pQM1Mq4irE"
      },
      "outputs": [],
      "source": [
        "from IPython import display\n",
        "display.clear_output()"
      ]
    },
    {
      "cell_type": "code",
      "execution_count": 5,
      "metadata": {
        "colab": {
          "base_uri": "https://localhost:8080/"
        },
        "id": "I1rFJkvP4kR4",
        "outputId": "5503f25f-c7b4-4607-9ff0-5cb2b4b34b78"
      },
      "outputs": [
        {
          "name": "stderr",
          "output_type": "stream",
          "text": [
            "Ultralytics YOLOv8.0.20 🚀 Python-3.10.12 torch-2.1.0+cu118 CUDA:0 (Tesla V100-SXM2-16GB, 16151MiB)\n",
            "Setup complete ✅ (2 CPUs, 12.7 GB RAM, 26.9/166.8 GB disk)\n"
          ]
        }
      ],
      "source": [
        "import ultralytics\n",
        "ultralytics.checks()\n",
        "from ultralytics import YOLO"
      ]
    },
    {
      "cell_type": "code",
      "execution_count": 6,
      "metadata": {
        "id": "TAW0KnGY4ld0"
      },
      "outputs": [],
      "source": [
        "HOME = os.getcwd()"
      ]
    },
    {
      "cell_type": "code",
      "execution_count": 7,
      "metadata": {
        "colab": {
          "base_uri": "https://localhost:8080/"
        },
        "id": "0kxkmqU64nUB",
        "outputId": "ba3358d0-5815-4b46-c0c1-293a6606f1b9"
      },
      "outputs": [
        {
          "name": "stdout",
          "output_type": "stream",
          "text": [
            "Downloading https://github.com/ultralytics/assets/releases/download/v0.0.0/yolov8s.pt to yolov8s.pt...\n",
            "100% 21.5M/21.5M [00:00<00:00, 205MB/s]\n",
            "\n",
            "Ultralytics YOLOv8.0.20 🚀 Python-3.10.12 torch-2.1.0+cu118 CUDA:0 (Tesla V100-SXM2-16GB, 16151MiB)\n",
            "\u001b[34m\u001b[1myolo/engine/trainer: \u001b[0mtask=detect, mode=train, model=yolov8s.yaml, data=/content/drive/MyDrive/hackaathon_dataset/data.yaml, epochs=25, patience=50, batch=16, imgsz=800, save=True, cache=False, device=, workers=8, project=None, name=None, exist_ok=False, pretrained=False, optimizer=SGD, verbose=True, seed=0, deterministic=True, single_cls=False, image_weights=False, rect=False, cos_lr=False, close_mosaic=10, resume=False, overlap_mask=True, mask_ratio=4, dropout=False, val=True, save_json=False, save_hybrid=False, conf=0.001, iou=0.7, max_det=300, half=False, dnn=False, plots=True, source=ultralytics/assets/, show=False, save_txt=False, save_conf=False, save_crop=False, hide_labels=False, hide_conf=False, vid_stride=1, line_thickness=3, visualize=False, augment=False, agnostic_nms=False, classes=None, retina_masks=False, boxes=True, format=torchscript, keras=False, optimize=False, int8=False, dynamic=False, simplify=False, opset=17, workspace=4, nms=False, lr0=0.01, lrf=0.01, momentum=0.937, weight_decay=0.001, warmup_epochs=3.0, warmup_momentum=0.8, warmup_bias_lr=0.1, box=7.5, cls=0.5, dfl=1.5, fl_gamma=0.0, label_smoothing=0.0, nbs=64, hsv_h=0.015, hsv_s=0.7, hsv_v=0.4, degrees=0.0, translate=0.1, scale=0.5, shear=0.0, perspective=0.0, flipud=0.0, fliplr=0.5, mosaic=1.0, mixup=0.0, copy_paste=0.0, cfg=None, v5loader=False, save_dir=runs/detect/train\n",
            "Downloading https://ultralytics.com/assets/Arial.ttf to /root/.config/Ultralytics/Arial.ttf...\n",
            "100% 755k/755k [00:00<00:00, 38.8MB/s]\n",
            "2023-11-18 21:27:57.604682: E tensorflow/compiler/xla/stream_executor/cuda/cuda_dnn.cc:9342] Unable to register cuDNN factory: Attempting to register factory for plugin cuDNN when one has already been registered\n",
            "2023-11-18 21:27:57.604737: E tensorflow/compiler/xla/stream_executor/cuda/cuda_fft.cc:609] Unable to register cuFFT factory: Attempting to register factory for plugin cuFFT when one has already been registered\n",
            "2023-11-18 21:27:57.604781: E tensorflow/compiler/xla/stream_executor/cuda/cuda_blas.cc:1518] Unable to register cuBLAS factory: Attempting to register factory for plugin cuBLAS when one has already been registered\n",
            "2023-11-18 21:28:01.760093: W tensorflow/compiler/tf2tensorrt/utils/py_utils.cc:38] TF-TRT Warning: Could not find TensorRT\n",
            "Overriding model.yaml nc=80 with nc=3\n",
            "\n",
            "                   from  n    params  module                                       arguments                     \n",
            "  0                  -1  1       928  ultralytics.nn.modules.Conv                  [3, 32, 3, 2]                 \n",
            "  1                  -1  1     18560  ultralytics.nn.modules.Conv                  [32, 64, 3, 2]                \n",
            "  2                  -1  1     29056  ultralytics.nn.modules.C2f                   [64, 64, 1, True]             \n",
            "  3                  -1  1     73984  ultralytics.nn.modules.Conv                  [64, 128, 3, 2]               \n",
            "  4                  -1  2    197632  ultralytics.nn.modules.C2f                   [128, 128, 2, True]           \n",
            "  5                  -1  1    295424  ultralytics.nn.modules.Conv                  [128, 256, 3, 2]              \n",
            "  6                  -1  2    788480  ultralytics.nn.modules.C2f                   [256, 256, 2, True]           \n",
            "  7                  -1  1   1180672  ultralytics.nn.modules.Conv                  [256, 512, 3, 2]              \n",
            "  8                  -1  1   1838080  ultralytics.nn.modules.C2f                   [512, 512, 1, True]           \n",
            "  9                  -1  1    656896  ultralytics.nn.modules.SPPF                  [512, 512, 5]                 \n",
            " 10                  -1  1         0  torch.nn.modules.upsampling.Upsample         [None, 2, 'nearest']          \n",
            " 11             [-1, 6]  1         0  ultralytics.nn.modules.Concat                [1]                           \n",
            " 12                  -1  1    591360  ultralytics.nn.modules.C2f                   [768, 256, 1]                 \n",
            " 13                  -1  1         0  torch.nn.modules.upsampling.Upsample         [None, 2, 'nearest']          \n",
            " 14             [-1, 4]  1         0  ultralytics.nn.modules.Concat                [1]                           \n",
            " 15                  -1  1    148224  ultralytics.nn.modules.C2f                   [384, 128, 1]                 \n",
            " 16                  -1  1    147712  ultralytics.nn.modules.Conv                  [128, 128, 3, 2]              \n",
            " 17            [-1, 12]  1         0  ultralytics.nn.modules.Concat                [1]                           \n",
            " 18                  -1  1    493056  ultralytics.nn.modules.C2f                   [384, 256, 1]                 \n",
            " 19                  -1  1    590336  ultralytics.nn.modules.Conv                  [256, 256, 3, 2]              \n",
            " 20             [-1, 9]  1         0  ultralytics.nn.modules.Concat                [1]                           \n",
            " 21                  -1  1   1969152  ultralytics.nn.modules.C2f                   [768, 512, 1]                 \n",
            " 22        [15, 18, 21]  1   2117209  ultralytics.nn.modules.Detect                [3, [128, 256, 512]]          \n",
            "Model summary: 225 layers, 11136761 parameters, 11136745 gradients, 28.7 GFLOPs\n",
            "\n",
            "Transferred 349/355 items from pretrained weights\n",
            "\u001b[34m\u001b[1moptimizer:\u001b[0m SGD(lr=0.01) with parameter groups 57 weight(decay=0.0), 64 weight(decay=0.001), 63 bias\n",
            "\u001b[34m\u001b[1mtrain: \u001b[0mScanning /content/drive/MyDrive/hackaathon_dataset/train/labels... 478 images, 0 backgrounds, 0 corrupt: 100% 478/478 [02:54<00:00,  2.75it/s]\n",
            "\u001b[34m\u001b[1mtrain: \u001b[0mNew cache created: /content/drive/MyDrive/hackaathon_dataset/train/labels.cache\n",
            "\u001b[34m\u001b[1malbumentations: \u001b[0mBlur(p=0.01, blur_limit=(3, 7)), MedianBlur(p=0.01, blur_limit=(3, 7)), ToGray(p=0.01), CLAHE(p=0.01, clip_limit=(1, 4.0), tile_grid_size=(8, 8))\n",
            "\u001b[34m\u001b[1mval: \u001b[0mScanning /content/drive/MyDrive/hackaathon_dataset/valid/labels... 54 images, 0 backgrounds, 0 corrupt: 100% 54/54 [00:45<00:00,  1.19it/s]\n",
            "\u001b[34m\u001b[1mval: \u001b[0mNew cache created: /content/drive/MyDrive/hackaathon_dataset/valid/labels.cache\n",
            "Image sizes 800 train, 800 val\n",
            "Using 2 dataloader workers\n",
            "Logging results to \u001b[1mruns/detect/train\u001b[0m\n",
            "Starting training for 25 epochs...\n",
            "\n",
            "      Epoch    GPU_mem   box_loss   cls_loss   dfl_loss  Instances       Size\n",
            "       1/25      6.53G      1.627      3.729      2.089         27        800: 100% 30/30 [00:35<00:00,  1.19s/it]\n",
            "                 Class     Images  Instances      Box(P          R      mAP50  mAP50-95): 100% 2/2 [00:03<00:00,  1.72s/it]\n",
            "                   all         54         54      0.616      0.503      0.565      0.297\n",
            "                   bag         54         16      0.784      0.688      0.731      0.323\n",
            "            sunglasses         54         23      0.435      0.087      0.219      0.088\n",
            "                 watch         54         15      0.631      0.733      0.744      0.481\n",
            "\n",
            "      Epoch    GPU_mem   box_loss   cls_loss   dfl_loss  Instances       Size\n",
            "       2/25      7.61G      1.398      1.878      1.856         42        800: 100% 30/30 [00:30<00:00,  1.03s/it]\n",
            "                 Class     Images  Instances      Box(P          R      mAP50  mAP50-95): 100% 2/2 [00:01<00:00,  1.60it/s]\n",
            "                   all         54         54      0.643      0.582      0.689      0.407\n",
            "                   bag         54         16      0.741      0.625      0.729       0.32\n",
            "            sunglasses         54         23      0.649      0.322      0.561      0.326\n",
            "                 watch         54         15      0.541        0.8      0.776      0.576\n",
            "\n",
            "      Epoch    GPU_mem   box_loss   cls_loss   dfl_loss  Instances       Size\n",
            "       3/25      7.61G      1.282      1.556      1.765         29        800: 100% 30/30 [00:31<00:00,  1.04s/it]\n",
            "                 Class     Images  Instances      Box(P          R      mAP50  mAP50-95): 100% 2/2 [00:01<00:00,  1.67it/s]\n",
            "                   all         54         54      0.732      0.669      0.746      0.406\n",
            "                   bag         54         16      0.655      0.688      0.794      0.279\n",
            "            sunglasses         54         23      0.598      0.652      0.547      0.369\n",
            "                 watch         54         15      0.942      0.667      0.895       0.57\n",
            "\n",
            "      Epoch    GPU_mem   box_loss   cls_loss   dfl_loss  Instances       Size\n",
            "       4/25      7.61G       1.38      1.513      1.834         29        800: 100% 30/30 [00:32<00:00,  1.09s/it]\n",
            "                 Class     Images  Instances      Box(P          R      mAP50  mAP50-95): 100% 2/2 [00:01<00:00,  1.69it/s]\n",
            "                   all         54         54       0.18      0.243      0.174      0.083\n",
            "                   bag         54         16      0.168      0.312      0.121     0.0472\n",
            "            sunglasses         54         23      0.116      0.217      0.131     0.0847\n",
            "                 watch         54         15      0.256        0.2       0.27      0.117\n",
            "\n",
            "      Epoch    GPU_mem   box_loss   cls_loss   dfl_loss  Instances       Size\n",
            "       5/25      7.61G      1.379      1.367      1.793         40        800: 100% 30/30 [00:32<00:00,  1.07s/it]\n",
            "                 Class     Images  Instances      Box(P          R      mAP50  mAP50-95): 100% 2/2 [00:01<00:00,  1.69it/s]\n",
            "                   all         54         54      0.319      0.465      0.323      0.143\n",
            "                   bag         54         16      0.305      0.625      0.387      0.128\n",
            "            sunglasses         54         23      0.249      0.304      0.199      0.125\n",
            "                 watch         54         15      0.404      0.467      0.383      0.177\n",
            "\n",
            "      Epoch    GPU_mem   box_loss   cls_loss   dfl_loss  Instances       Size\n",
            "       6/25      7.61G       1.37      1.282       1.79         41        800: 100% 30/30 [00:32<00:00,  1.08s/it]\n",
            "                 Class     Images  Instances      Box(P          R      mAP50  mAP50-95): 100% 2/2 [00:01<00:00,  1.66it/s]\n",
            "                   all         54         54      0.412      0.431      0.361      0.174\n",
            "                   bag         54         16      0.498        0.5      0.508      0.243\n",
            "            sunglasses         54         23      0.426      0.522      0.328      0.162\n",
            "                 watch         54         15      0.312      0.273      0.247      0.116\n",
            "\n",
            "      Epoch    GPU_mem   box_loss   cls_loss   dfl_loss  Instances       Size\n",
            "       7/25      7.61G      1.368      1.266      1.774         36        800: 100% 30/30 [00:32<00:00,  1.07s/it]\n",
            "                 Class     Images  Instances      Box(P          R      mAP50  mAP50-95): 100% 2/2 [00:01<00:00,  1.71it/s]\n",
            "                   all         54         54      0.533      0.478      0.452      0.228\n",
            "                   bag         54         16      0.477      0.375       0.42      0.189\n",
            "            sunglasses         54         23      0.538      0.391      0.421      0.246\n",
            "                 watch         54         15      0.583      0.667      0.514      0.251\n",
            "\n",
            "      Epoch    GPU_mem   box_loss   cls_loss   dfl_loss  Instances       Size\n",
            "       8/25      7.61G      1.373      1.357        1.8         37        800: 100% 30/30 [00:29<00:00,  1.00it/s]\n",
            "                 Class     Images  Instances      Box(P          R      mAP50  mAP50-95): 100% 2/2 [00:01<00:00,  1.13it/s]\n",
            "                   all         54         54      0.533      0.668      0.577      0.311\n",
            "                   bag         54         16      0.305      0.688      0.542      0.305\n",
            "            sunglasses         54         23      0.514      0.609      0.481       0.27\n",
            "                 watch         54         15      0.779      0.707      0.708      0.358\n",
            "\n",
            "      Epoch    GPU_mem   box_loss   cls_loss   dfl_loss  Instances       Size\n",
            "       9/25      7.61G      1.319      1.256      1.753         25        800: 100% 30/30 [00:28<00:00,  1.04it/s]\n",
            "                 Class     Images  Instances      Box(P          R      mAP50  mAP50-95): 100% 2/2 [00:01<00:00,  1.38it/s]\n",
            "                   all         54         54       0.57      0.567      0.579      0.298\n",
            "                   bag         54         16      0.673       0.75      0.681      0.284\n",
            "            sunglasses         54         23      0.467      0.419      0.414       0.24\n",
            "                 watch         54         15       0.57      0.533      0.641       0.37\n",
            "\n",
            "      Epoch    GPU_mem   box_loss   cls_loss   dfl_loss  Instances       Size\n",
            "      10/25      7.61G       1.35      1.225      1.759         35        800: 100% 30/30 [00:31<00:00,  1.04s/it]\n",
            "                 Class     Images  Instances      Box(P          R      mAP50  mAP50-95): 100% 2/2 [00:01<00:00,  1.65it/s]\n",
            "                   all         54         54      0.734      0.848      0.794      0.462\n",
            "                   bag         54         16      0.755      0.812      0.836       0.51\n",
            "            sunglasses         54         23      0.575      0.825      0.655      0.434\n",
            "                 watch         54         15      0.872      0.908      0.891      0.442\n",
            "\n",
            "      Epoch    GPU_mem   box_loss   cls_loss   dfl_loss  Instances       Size\n",
            "      11/25      7.61G      1.348       1.16      1.799         36        800: 100% 30/30 [00:31<00:00,  1.06s/it]\n",
            "                 Class     Images  Instances      Box(P          R      mAP50  mAP50-95): 100% 2/2 [00:01<00:00,  1.72it/s]\n",
            "                   all         54         54      0.621       0.65      0.682      0.392\n",
            "                   bag         54         16      0.555      0.702      0.717      0.464\n",
            "            sunglasses         54         23      0.586      0.783      0.658      0.383\n",
            "                 watch         54         15      0.721      0.467       0.67      0.328\n",
            "\n",
            "      Epoch    GPU_mem   box_loss   cls_loss   dfl_loss  Instances       Size\n",
            "      12/25      7.61G      1.274      1.086      1.733         29        800: 100% 30/30 [00:31<00:00,  1.06s/it]\n",
            "                 Class     Images  Instances      Box(P          R      mAP50  mAP50-95): 100% 2/2 [00:01<00:00,  1.67it/s]\n",
            "                   all         54         54      0.601      0.729      0.714      0.387\n",
            "                   bag         54         16      0.432      0.938      0.848      0.429\n",
            "            sunglasses         54         23      0.517      0.783      0.586      0.404\n",
            "                 watch         54         15      0.855      0.467      0.708      0.327\n",
            "\n",
            "      Epoch    GPU_mem   box_loss   cls_loss   dfl_loss  Instances       Size\n",
            "      13/25      7.61G      1.292      1.068      1.724         32        800: 100% 30/30 [00:31<00:00,  1.05s/it]\n",
            "                 Class     Images  Instances      Box(P          R      mAP50  mAP50-95): 100% 2/2 [00:01<00:00,  1.74it/s]\n",
            "                   all         54         54      0.526      0.523      0.572       0.29\n",
            "                   bag         54         16      0.554        0.7      0.718      0.285\n",
            "            sunglasses         54         23      0.533      0.739      0.653      0.446\n",
            "                 watch         54         15      0.493       0.13      0.344      0.139\n",
            "\n",
            "      Epoch    GPU_mem   box_loss   cls_loss   dfl_loss  Instances       Size\n",
            "      14/25      7.61G      1.225      1.019      1.666         30        800: 100% 30/30 [00:30<00:00,  1.00s/it]\n",
            "                 Class     Images  Instances      Box(P          R      mAP50  mAP50-95): 100% 2/2 [00:01<00:00,  1.13it/s]\n",
            "                   all         54         54      0.682      0.694      0.748      0.411\n",
            "                   bag         54         16      0.686      0.812      0.811      0.465\n",
            "            sunglasses         54         23      0.574      0.783      0.683      0.371\n",
            "                 watch         54         15      0.784      0.486      0.749      0.397\n",
            "\n",
            "      Epoch    GPU_mem   box_loss   cls_loss   dfl_loss  Instances       Size\n",
            "      15/25      7.61G      1.211      0.995      1.655         23        800: 100% 30/30 [00:28<00:00,  1.07it/s]\n",
            "                 Class     Images  Instances      Box(P          R      mAP50  mAP50-95): 100% 2/2 [00:01<00:00,  1.09it/s]\n",
            "                   all         54         54        0.6      0.809      0.791      0.403\n",
            "                   bag         54         16      0.462      0.875       0.85      0.372\n",
            "            sunglasses         54         23      0.598      0.783      0.701      0.411\n",
            "                 watch         54         15      0.742      0.768      0.821      0.425\n",
            "Closing dataloader mosaic\n",
            "\u001b[34m\u001b[1malbumentations: \u001b[0mBlur(p=0.01, blur_limit=(3, 7)), MedianBlur(p=0.01, blur_limit=(3, 7)), ToGray(p=0.01), CLAHE(p=0.01, clip_limit=(1, 4.0), tile_grid_size=(8, 8))\n",
            "\n",
            "      Epoch    GPU_mem   box_loss   cls_loss   dfl_loss  Instances       Size\n",
            "      16/25      7.61G      1.256     0.9468      1.893         14        800: 100% 30/30 [00:19<00:00,  1.58it/s]\n",
            "                 Class     Images  Instances      Box(P          R      mAP50  mAP50-95): 100% 2/2 [00:01<00:00,  1.13it/s]\n",
            "                   all         54         54      0.678      0.686      0.724      0.409\n",
            "                   bag         54         16      0.703      0.938      0.886      0.591\n",
            "            sunglasses         54         23      0.452      0.522      0.479      0.183\n",
            "                 watch         54         15      0.879        0.6      0.808      0.454\n",
            "\n",
            "      Epoch    GPU_mem   box_loss   cls_loss   dfl_loss  Instances       Size\n",
            "      17/25      7.61G      1.189     0.8295      1.837         14        800: 100% 30/30 [00:15<00:00,  1.88it/s]\n",
            "                 Class     Images  Instances      Box(P          R      mAP50  mAP50-95): 100% 2/2 [00:01<00:00,  1.11it/s]\n",
            "                   all         54         54      0.792      0.773      0.836      0.476\n",
            "                   bag         54         16       0.88      0.938      0.942      0.599\n",
            "            sunglasses         54         23      0.575      0.647      0.619      0.346\n",
            "                 watch         54         15      0.923      0.733      0.948      0.483\n",
            "\n",
            "      Epoch    GPU_mem   box_loss   cls_loss   dfl_loss  Instances       Size\n",
            "      18/25      7.61G      1.138     0.8251      1.812         15        800: 100% 30/30 [00:16<00:00,  1.82it/s]\n",
            "                 Class     Images  Instances      Box(P          R      mAP50  mAP50-95): 100% 2/2 [00:01<00:00,  1.29it/s]\n",
            "                   all         54         54      0.649      0.851      0.774      0.429\n",
            "                   bag         54         16      0.622          1       0.93      0.551\n",
            "            sunglasses         54         23      0.535      0.801       0.59      0.335\n",
            "                 watch         54         15       0.79      0.753      0.803      0.401\n",
            "\n",
            "      Epoch    GPU_mem   box_loss   cls_loss   dfl_loss  Instances       Size\n",
            "      19/25      7.61G      1.123     0.7979      1.802         15        800: 100% 30/30 [00:16<00:00,  1.81it/s]\n",
            "                 Class     Images  Instances      Box(P          R      mAP50  mAP50-95): 100% 2/2 [00:01<00:00,  1.42it/s]\n",
            "                   all         54         54      0.829      0.757      0.866      0.522\n",
            "                   bag         54         16      0.884      0.938      0.969      0.587\n",
            "            sunglasses         54         23      0.602      0.826      0.786      0.536\n",
            "                 watch         54         15          1      0.507      0.842      0.442\n",
            "\n",
            "      Epoch    GPU_mem   box_loss   cls_loss   dfl_loss  Instances       Size\n",
            "      20/25      7.61G      1.123     0.7469      1.746         14        800: 100% 30/30 [00:17<00:00,  1.76it/s]\n",
            "                 Class     Images  Instances      Box(P          R      mAP50  mAP50-95): 100% 2/2 [00:01<00:00,  1.64it/s]\n",
            "                   all         54         54      0.775      0.837      0.884      0.575\n",
            "                   bag         54         16      0.824      0.877      0.943      0.648\n",
            "            sunglasses         54         23      0.616      0.835        0.8      0.569\n",
            "                 watch         54         15      0.885        0.8      0.909      0.506\n",
            "\n",
            "      Epoch    GPU_mem   box_loss   cls_loss   dfl_loss  Instances       Size\n",
            "      21/25      7.61G      1.043     0.7161      1.686         15        800: 100% 30/30 [00:17<00:00,  1.72it/s]\n",
            "                 Class     Images  Instances      Box(P          R      mAP50  mAP50-95): 100% 2/2 [00:01<00:00,  1.75it/s]\n",
            "                   all         54         54      0.838      0.767      0.865      0.539\n",
            "                   bag         54         16      0.843      0.875      0.918      0.582\n",
            "            sunglasses         54         23      0.688      0.826      0.826      0.539\n",
            "                 watch         54         15      0.983        0.6       0.85      0.495\n",
            "\n",
            "      Epoch    GPU_mem   box_loss   cls_loss   dfl_loss  Instances       Size\n",
            "      22/25      7.61G     0.9965     0.6649      1.636         15        800: 100% 30/30 [00:17<00:00,  1.74it/s]\n",
            "                 Class     Images  Instances      Box(P          R      mAP50  mAP50-95): 100% 2/2 [00:01<00:00,  1.73it/s]\n",
            "                   all         54         54      0.832      0.808      0.891      0.572\n",
            "                   bag         54         16      0.873      0.938      0.958      0.646\n",
            "            sunglasses         54         23      0.653       0.82      0.801      0.559\n",
            "                 watch         54         15       0.97      0.667      0.915      0.512\n",
            "\n",
            "      Epoch    GPU_mem   box_loss   cls_loss   dfl_loss  Instances       Size\n",
            "      23/25      7.61G     0.9579     0.6136      1.597         16        800: 100% 30/30 [00:16<00:00,  1.78it/s]\n",
            "                 Class     Images  Instances      Box(P          R      mAP50  mAP50-95): 100% 2/2 [00:01<00:00,  1.63it/s]\n",
            "                   all         54         54      0.805      0.913      0.908       0.59\n",
            "                   bag         54         16      0.883      0.938      0.952      0.644\n",
            "            sunglasses         54         23      0.666      0.868      0.829      0.599\n",
            "                 watch         54         15      0.865      0.933      0.941      0.526\n",
            "\n",
            "      Epoch    GPU_mem   box_loss   cls_loss   dfl_loss  Instances       Size\n",
            "      24/25      7.61G     0.9826     0.6045      1.629         14        800: 100% 30/30 [00:17<00:00,  1.76it/s]\n",
            "                 Class     Images  Instances      Box(P          R      mAP50  mAP50-95): 100% 2/2 [00:01<00:00,  1.65it/s]\n",
            "                   all         54         54      0.822       0.92       0.91      0.585\n",
            "                   bag         54         16      0.921      0.938      0.958      0.657\n",
            "            sunglasses         54         23      0.671      0.913      0.819      0.606\n",
            "                 watch         54         15      0.872      0.909      0.952      0.494\n",
            "\n",
            "      Epoch    GPU_mem   box_loss   cls_loss   dfl_loss  Instances       Size\n",
            "      25/25      7.61G     0.9056     0.5624      1.542         15        800: 100% 30/30 [00:17<00:00,  1.75it/s]\n",
            "                 Class     Images  Instances      Box(P          R      mAP50  mAP50-95): 100% 2/2 [00:01<00:00,  1.17it/s]\n",
            "                   all         54         54      0.806      0.909       0.91      0.609\n",
            "                   bag         54         16      0.906      0.938      0.959       0.69\n",
            "            sunglasses         54         23      0.698      0.913       0.83      0.613\n",
            "                 watch         54         15      0.814      0.877       0.94      0.522\n",
            "\n",
            "25 epochs completed in 0.195 hours.\n",
            "Optimizer stripped from runs/detect/train/weights/last.pt, 22.5MB\n",
            "Optimizer stripped from runs/detect/train/weights/best.pt, 22.5MB\n",
            "\n",
            "Validating runs/detect/train/weights/best.pt...\n",
            "Ultralytics YOLOv8.0.20 🚀 Python-3.10.12 torch-2.1.0+cu118 CUDA:0 (Tesla V100-SXM2-16GB, 16151MiB)\n",
            "Model summary (fused): 168 layers, 11126745 parameters, 0 gradients, 28.4 GFLOPs\n",
            "                 Class     Images  Instances      Box(P          R      mAP50  mAP50-95): 100% 2/2 [00:02<00:00,  1.27s/it]\n",
            "                   all         54         54      0.806      0.909       0.91      0.609\n",
            "                   bag         54         16      0.906      0.938      0.959       0.69\n",
            "            sunglasses         54         23      0.698      0.913       0.83      0.613\n",
            "                 watch         54         15      0.814      0.877       0.94      0.522\n",
            "Speed: 0.3ms pre-process, 1.9ms inference, 0.0ms loss, 2.2ms post-process per image\n",
            "Results saved to \u001b[1mruns/detect/train\u001b[0m\n"
          ]
        }
      ],
      "source": [
        "!yolo task=detect mode=train model=yolov8s.pt data=\"/content/drive/MyDrive/hackaathon_dataset/data.yaml\" epochs=25 imgsz=800 plots=True"
      ]
    },
    {
      "cell_type": "code",
      "execution_count": 8,
      "metadata": {
        "id": "zAuK9ZFj4r8H"
      },
      "outputs": [],
      "source": [
        "best_weights_path = '/content/runs/detect/train/weights/best.pt'"
      ]
    },
    {
      "cell_type": "code",
      "execution_count": 9,
      "metadata": {
        "colab": {
          "base_uri": "https://localhost:8080/"
        },
        "id": "vJTQO7Zq4tXq",
        "outputId": "aad35ceb-d0cc-401b-df7b-a2952b5daad6"
      },
      "outputs": [
        {
          "name": "stdout",
          "output_type": "stream",
          "text": [
            "2023-11-18 21:43:48.662517: E tensorflow/compiler/xla/stream_executor/cuda/cuda_dnn.cc:9342] Unable to register cuDNN factory: Attempting to register factory for plugin cuDNN when one has already been registered\n",
            "2023-11-18 21:43:48.662584: E tensorflow/compiler/xla/stream_executor/cuda/cuda_fft.cc:609] Unable to register cuFFT factory: Attempting to register factory for plugin cuFFT when one has already been registered\n",
            "2023-11-18 21:43:48.662628: E tensorflow/compiler/xla/stream_executor/cuda/cuda_blas.cc:1518] Unable to register cuBLAS factory: Attempting to register factory for plugin cuBLAS when one has already been registered\n",
            "2023-11-18 21:43:50.204379: W tensorflow/compiler/tf2tensorrt/utils/py_utils.cc:38] TF-TRT Warning: Could not find TensorRT\n",
            "Ultralytics YOLOv8.0.20 🚀 Python-3.10.12 torch-2.1.0+cu118 CUDA:0 (Tesla V100-SXM2-16GB, 16151MiB)\n",
            "Model summary (fused): 168 layers, 11126745 parameters, 0 gradients, 28.4 GFLOPs\n",
            "\u001b[34m\u001b[1mval: \u001b[0mScanning /content/drive/MyDrive/hackaathon_dataset/valid/labels.cache... 54 images, 0 backgrounds, 0 corrupt: 100% 54/54 [00:00<?, ?it/s]\n",
            "                 Class     Images  Instances      Box(P          R      mAP50  mAP50-95): 100% 4/4 [00:03<00:00,  1.13it/s]\n",
            "                   all         54         54      0.806      0.909       0.91      0.611\n",
            "                   bag         54         16      0.906      0.938      0.959       0.69\n",
            "            sunglasses         54         23      0.698      0.913       0.83      0.613\n",
            "                 watch         54         15      0.814      0.876       0.94      0.529\n",
            "Speed: 5.9ms pre-process, 14.7ms inference, 0.0ms loss, 4.8ms post-process per image\n"
          ]
        }
      ],
      "source": [
        "!yolo task=detect mode=val model={best_weights_path} data={\"/content/drive/MyDrive/hackaathon_dataset/data.yaml\"}"
      ]
    },
    {
      "cell_type": "code",
      "execution_count": 10,
      "metadata": {
        "colab": {
          "base_uri": "https://localhost:8080/"
        },
        "id": "f91ryR614ux9",
        "outputId": "9d0cc987-629f-4a88-b636-6c42c003f688"
      },
      "outputs": [
        {
          "name": "stdout",
          "output_type": "stream",
          "text": [
            "2023-11-18 21:44:06.976703: E tensorflow/compiler/xla/stream_executor/cuda/cuda_dnn.cc:9342] Unable to register cuDNN factory: Attempting to register factory for plugin cuDNN when one has already been registered\n",
            "2023-11-18 21:44:06.976772: E tensorflow/compiler/xla/stream_executor/cuda/cuda_fft.cc:609] Unable to register cuFFT factory: Attempting to register factory for plugin cuFFT when one has already been registered\n",
            "2023-11-18 21:44:06.976832: E tensorflow/compiler/xla/stream_executor/cuda/cuda_blas.cc:1518] Unable to register cuBLAS factory: Attempting to register factory for plugin cuBLAS when one has already been registered\n",
            "2023-11-18 21:44:08.052954: W tensorflow/compiler/tf2tensorrt/utils/py_utils.cc:38] TF-TRT Warning: Could not find TensorRT\n",
            "Ultralytics YOLOv8.0.20 🚀 Python-3.10.12 torch-2.1.0+cu118 CUDA:0 (Tesla V100-SXM2-16GB, 16151MiB)\n",
            "Model summary (fused): 168 layers, 11126745 parameters, 0 gradients, 28.4 GFLOPs\n",
            "image 1/68 /content/drive/MyDrive/hackaathon_dataset/test/images/1582688295691_ocabirtv3xp_jpg.rf.1be1225097613891c7bc603003680eca.jpg: 800x800 1 bag, 6.2ms\n",
            "image 2/68 /content/drive/MyDrive/hackaathon_dataset/test/images/1583333677572_pup5lhggw8n_jpg.rf.10b8a9de1531ff17d8005b39df26824e.jpg: 800x800 1 bag, 8.6ms\n",
            "image 3/68 /content/drive/MyDrive/hackaathon_dataset/test/images/1583557673003_mzos6slz0q_jpg.rf.291c2b5477c6b2f12411ccd0dbaa71bf.jpg: 800x800 1 bag, 9.0ms\n",
            "image 4/68 /content/drive/MyDrive/hackaathon_dataset/test/images/1590383687683_dzslc1zldb_jpg.rf.dda724d3b673a17b32f314ca56fbfe61.jpg: 800x800 1 bag, 6.3ms\n",
            "image 5/68 /content/drive/MyDrive/hackaathon_dataset/test/images/1590397873507_atfncextjnp_jpg.rf.b8948cceeaf790129dfa3a13be24928a.jpg: 800x800 1 bag, 6.3ms\n",
            "image 6/68 /content/drive/MyDrive/hackaathon_dataset/test/images/1592018494275_1ey7bd99vfr_jpg.rf.b5b12463926fc2df41a394a66c97a3ab.jpg: 800x800 2 bags, 6.6ms\n",
            "image 7/68 /content/drive/MyDrive/hackaathon_dataset/test/images/1593622943715_0n0ii5gyf9p_jpg.rf.7333d4a65b38fa2633474e857ea850f5.jpg: 800x800 2 bags, 7.6ms\n",
            "image 8/68 /content/drive/MyDrive/hackaathon_dataset/test/images/1594693085850_2o2mml3qwg_jpg.rf.45724a7102a69e80550b460bfc836e3c.jpg: 800x800 7.1ms\n",
            "image 9/68 /content/drive/MyDrive/hackaathon_dataset/test/images/1602738870559_f7ws4fmmr24_jpg.rf.32b5901f21fa1114c3ebd03fe59bda75.jpg: 800x800 1 bag, 6.2ms\n",
            "image 10/68 /content/drive/MyDrive/hackaathon_dataset/test/images/1604907591043_wcil5iu5hwd_jpg.rf.98e34495c45f58b9b54b45555ec8fea8.jpg: 800x800 1 bag, 7.0ms\n",
            "image 11/68 /content/drive/MyDrive/hackaathon_dataset/test/images/1606363823402_frbbw2bu5sh_jpg.rf.5e3847d21dfc3343b539836ef446076b.jpg: 800x800 1 bag, 9.9ms\n",
            "image 12/68 /content/drive/MyDrive/hackaathon_dataset/test/images/1608026727206_qbs9xhmid3_jpg.rf.91e97692357ea6d9dc87a8f1952dd513.jpg: 800x800 1 bag, 6.3ms\n",
            "image 13/68 /content/drive/MyDrive/hackaathon_dataset/test/images/1608992582517_o1o6gya19e_jpg.rf.eb6c6b1a3bfb6efb4fe2e122e5b53fe5.jpg: 800x800 1 bag, 8.0ms\n",
            "image 14/68 /content/drive/MyDrive/hackaathon_dataset/test/images/1609841774512_ijwmrv6j1pf_jpg.rf.9cf5abc3f46d1a71ed90d863a512502d.jpg: 800x800 1 bag, 7.6ms\n",
            "image 15/68 /content/drive/MyDrive/hackaathon_dataset/test/images/1625109879312_25dtksd86ng_jpg.rf.145c8b5fe343a56118b6ab6a250ac65d.jpg: 800x800 1 bag, 10.3ms\n",
            "image 16/68 /content/drive/MyDrive/hackaathon_dataset/test/images/1625283970983_3yjtemf3tdr_jpg.rf.5ee926fd0b3d835cefc82b5a5801de29.jpg: 800x800 2 bags, 10.4ms\n",
            "image 17/68 /content/drive/MyDrive/hackaathon_dataset/test/images/1625284202030_m0aa8d5ymvk_jpg.rf.65bcbda708ecdb95830f529f6b56ff69.jpg: 800x800 2 bags, 8.1ms\n",
            "image 18/68 /content/drive/MyDrive/hackaathon_dataset/test/images/5e9b7afc4c60502d7aff61079d13e952-1-_jpg.rf.3e87566b9b1948c1324ef250213a35f8.jpg: 800x800 8.3ms\n",
            "image 19/68 /content/drive/MyDrive/hackaathon_dataset/test/images/7MDSBEKS5112_jpg.rf.b2e5a95de1bcd7882284a4db48c43f51.jpg: 800x800 2 watchs, 8.2ms\n",
            "image 20/68 /content/drive/MyDrive/hackaathon_dataset/test/images/7OSMJ0668M2Q_jpg.rf.570bd45f550c87d1952320d7e107262c.jpg: 800x800 1 watch, 11.2ms\n",
            "image 21/68 /content/drive/MyDrive/hackaathon_dataset/test/images/7SZUBT44BG9H_jpg.rf.e46aefb9c24d7a831c7ada64867d4e41.jpg: 800x800 2 watchs, 6.5ms\n",
            "image 22/68 /content/drive/MyDrive/hackaathon_dataset/test/images/7TTFA7J9NY9S_jpg.rf.e39fca68665eaf0d65d488e716806ef3.jpg: 800x800 1 watch, 6.3ms\n",
            "image 23/68 /content/drive/MyDrive/hackaathon_dataset/test/images/7UHEY9UA276C_jpg.rf.d4fd5c67c3d3a93403ab5a585d1b5d60.jpg: 800x800 1 watch, 6.4ms\n",
            "image 24/68 /content/drive/MyDrive/hackaathon_dataset/test/images/82739E1EK6BD_jpg.rf.3264f4e771a67ca2e6043f0409f8b5f1.jpg: 800x800 1 bag, 1 watch, 6.5ms\n",
            "image 25/68 /content/drive/MyDrive/hackaathon_dataset/test/images/8FMGVGN01IU9_jpg.rf.74c2a4a1895fbaa63abbe0862bbc0b30.jpg: 800x800 1 bag, 13.5ms\n",
            "image 26/68 /content/drive/MyDrive/hackaathon_dataset/test/images/8NVES5NEKO1C_jpg.rf.1cef56a0c402bea6b678596e368e29d0.jpg: 800x800 1 watch, 6.3ms\n",
            "image 27/68 /content/drive/MyDrive/hackaathon_dataset/test/images/8VY0A790S9K9_jpg.rf.d7f4721a26c82431e03447af43379643.jpg: 800x800 1 watch, 6.6ms\n",
            "image 28/68 /content/drive/MyDrive/hackaathon_dataset/test/images/8YTBAGKPAJSO_jpg.rf.aac84fa958ac2f1d56d40413870a7ba6.jpg: 800x800 1 watch, 8.3ms\n",
            "image 29/68 /content/drive/MyDrive/hackaathon_dataset/test/images/95RFNRKCZB7N_jpg.rf.605d41fa4de61032803eebc939818a7e.jpg: 800x800 6.3ms\n",
            "image 30/68 /content/drive/MyDrive/hackaathon_dataset/test/images/9KS4TSYPNO6N_jpg.rf.a30a97fa136ac9e7d39761e3ece8bd7f.jpg: 800x800 2 watchs, 9.3ms\n",
            "image 31/68 /content/drive/MyDrive/hackaathon_dataset/test/images/9O9U1PLNGZKU_jpg.rf.e35bb39dc3cde1948f2c91f1854834b9.jpg: 800x800 1 sunglasses, 6.0ms\n",
            "image 32/68 /content/drive/MyDrive/hackaathon_dataset/test/images/9U5T418XKDTF_jpg.rf.3114c6a690949c1dc924f8e020e2f420.jpg: 800x800 1 watch, 6.6ms\n",
            "image 33/68 /content/drive/MyDrive/hackaathon_dataset/test/images/A0YJ3HKZBXXE_jpg.rf.e522ff41f1c14edc44abcd83f0ce8fad.jpg: 800x800 1 watch, 6.4ms\n",
            "image 34/68 /content/drive/MyDrive/hackaathon_dataset/test/images/AX9UMXLVWM3S_jpg.rf.d718d9d9372182c359e11ca70d3336cd.jpg: 800x800 1 watch, 6.3ms\n",
            "image 35/68 /content/drive/MyDrive/hackaathon_dataset/test/images/BKX287HT441U_jpg.rf.cfa527f958e79bb6f36431f06e0838fa.jpg: 800x800 1 watch, 7.0ms\n",
            "image 36/68 /content/drive/MyDrive/hackaathon_dataset/test/images/BKXFQ1G3XHEA_jpg.rf.52971a2d21b666c59240c0937357a60b.jpg: 800x800 1 watch, 6.4ms\n",
            "image 37/68 /content/drive/MyDrive/hackaathon_dataset/test/images/BNE17K9QPW87_jpg.rf.ae601b7eced098246e949376948b0b9e.jpg: 800x800 1 watch, 6.3ms\n",
            "image 38/68 /content/drive/MyDrive/hackaathon_dataset/test/images/BPP5GC5KAWYT_jpg.rf.01c0f1f04aa0fb52eec7405c0c767f28.jpg: 800x800 1 bag, 1 watch, 11.4ms\n",
            "image 39/68 /content/drive/MyDrive/hackaathon_dataset/test/images/BSPA85I9KV29_jpg.rf.f6c63bd821a40c4cfa6263e0f4b963df.jpg: 800x800 1 watch, 6.6ms\n",
            "image 40/68 /content/drive/MyDrive/hackaathon_dataset/test/images/BUKBGVES3IJQ_jpg.rf.6b7d0988bc85284e83bfd6b3d5bd80d3.jpg: 800x800 2 watchs, 9.5ms\n",
            "image 41/68 /content/drive/MyDrive/hackaathon_dataset/test/images/BUT9ZD4P2FTP_jpg.rf.0324035f83056b6aed0126ae66a22be8.jpg: 800x800 1 watch, 8.6ms\n",
            "image 42/68 /content/drive/MyDrive/hackaathon_dataset/test/images/C05N0ZVR12FE_jpg.rf.c783374a1ccc628a36cc72d68e5363b7.jpg: 800x800 7.8ms\n",
            "image 43/68 /content/drive/MyDrive/hackaathon_dataset/test/images/C41DHREHYNVW_jpg.rf.af7b0d8711369fbdd2b38260e4688a20.jpg: 800x800 1 watch, 8.6ms\n",
            "image 44/68 /content/drive/MyDrive/hackaathon_dataset/test/images/CCU4KZD6GZ9N_jpg.rf.7af6459231e4c33ee1da665674835e69.jpg: 800x800 1 sunglasses, 7.9ms\n",
            "image 45/68 /content/drive/MyDrive/hackaathon_dataset/test/images/CIR9H6MSTNYB_jpg.rf.050d2399dd26efe06a441f32f883e1a5.jpg: 800x800 1 watch, 8.6ms\n",
            "image 46/68 /content/drive/MyDrive/hackaathon_dataset/test/images/D5K4LVU2Z4SV_jpg.rf.05d7009a56d89e63985a50110e4d2f13.jpg: 800x800 1 bag, 1 watch, 8.4ms\n",
            "image 47/68 /content/drive/MyDrive/hackaathon_dataset/test/images/EQXRKOB8OD7L_jpg.rf.5c6b021598bc48a1ad77d5acc6c6e173.jpg: 800x800 1 bag, 11.0ms\n",
            "image 48/68 /content/drive/MyDrive/hackaathon_dataset/test/images/cd8b9cb2eef381ec0acbc291e430e681_jpg.rf.d291c52ae283eb1e0647fdcd47d0369c.jpg: 800x800 1 bag, 6.4ms\n",
            "image 49/68 /content/drive/MyDrive/hackaathon_dataset/test/images/images102_jpg.rf.33d7bd4a28f5659701be2ef4be648b3a.jpg: 800x800 1 sunglasses, 6.8ms\n",
            "image 50/68 /content/drive/MyDrive/hackaathon_dataset/test/images/images107_jpg.rf.1e456fa0a07d52d9096e9d81f14d4c91.jpg: 800x800 1 sunglasses, 6.4ms\n",
            "image 51/68 /content/drive/MyDrive/hackaathon_dataset/test/images/images110_jpg.rf.cdb9191c06f80e88368362aa8731ff0e.jpg: 800x800 1 sunglasses, 6.2ms\n",
            "image 52/68 /content/drive/MyDrive/hackaathon_dataset/test/images/images119_jpg.rf.52bd7501917f1acc86c07fd42d2d7562.jpg: 800x800 3 sunglassess, 6.1ms\n",
            "image 53/68 /content/drive/MyDrive/hackaathon_dataset/test/images/images136_jpg.rf.3db1277261cc1bc925e7f57d1a1c41e6.jpg: 800x800 1 sunglasses, 7.0ms\n",
            "image 54/68 /content/drive/MyDrive/hackaathon_dataset/test/images/images138_jpg.rf.bce2c4fdef7922c6848902aface0e454.jpg: 800x800 1 sunglasses, 6.3ms\n",
            "image 55/68 /content/drive/MyDrive/hackaathon_dataset/test/images/images147_jpg.rf.5703b18330bbd328ea3cb55d783ca536.jpg: 800x800 1 sunglasses, 6.5ms\n",
            "image 56/68 /content/drive/MyDrive/hackaathon_dataset/test/images/images155_jpg.rf.51a4e2c937deef140d5ab51f594239de.jpg: 800x800 1 sunglasses, 7.3ms\n",
            "image 57/68 /content/drive/MyDrive/hackaathon_dataset/test/images/images177_jpg.rf.a7bb9412d402f3038e99fef16f353fd3.jpg: 800x800 6.9ms\n",
            "image 58/68 /content/drive/MyDrive/hackaathon_dataset/test/images/images185_jpg.rf.df4d726f4204c6b93d8d86708d8e2de9.jpg: 800x800 1 sunglasses, 6.4ms\n",
            "image 59/68 /content/drive/MyDrive/hackaathon_dataset/test/images/images202_jpg.rf.396ee3c3b4e488527c6a8458ea688a95.jpg: 800x800 1 sunglasses, 7.8ms\n",
            "image 60/68 /content/drive/MyDrive/hackaathon_dataset/test/images/images206_jpg.rf.2bf82851f8af8091d8415863766dae59.jpg: 800x800 2 sunglassess, 6.2ms\n",
            "image 61/68 /content/drive/MyDrive/hackaathon_dataset/test/images/images223_jpg.rf.4f22cf86ec1b378412d4d4455a22e0de.jpg: 800x800 1 sunglasses, 6.5ms\n",
            "image 62/68 /content/drive/MyDrive/hackaathon_dataset/test/images/images253_jpg.rf.8440f6168ffc014346b10a4ea7b65354.jpg: 800x800 2 sunglassess, 6.3ms\n",
            "image 63/68 /content/drive/MyDrive/hackaathon_dataset/test/images/images38_jpg.rf.c92d7c876bb7669223432990e4bba8ca.jpg: 800x800 1 sunglasses, 6.8ms\n",
            "image 64/68 /content/drive/MyDrive/hackaathon_dataset/test/images/images74_jpg.rf.523ed0b8243b241735b65ed18dafdfcf.jpg: 800x800 1 sunglasses, 6.4ms\n",
            "image 65/68 /content/drive/MyDrive/hackaathon_dataset/test/images/images97_jpg.rf.d88b894637c1b240b02f247fbe877d4d.jpg: 800x800 1 sunglasses, 6.3ms\n",
            "image 66/68 /content/drive/MyDrive/hackaathon_dataset/test/images/sunglasses-top_jpg.rf.8e74cf2340944d719e2769eff73b7bce.jpg: 800x800 1 bag, 5 sunglassess, 6.6ms\n",
            "image 67/68 /content/drive/MyDrive/hackaathon_dataset/test/images/test20_jpg.rf.aae7fc86f77c8c15d8704e063240667b.jpg: 800x800 1 bag, 6.4ms\n",
            "image 68/68 /content/drive/MyDrive/hackaathon_dataset/test/images/unisex-full-metal-square-coolers-500x500_jpg.rf.e1ee1392233a6838cf41c10e5a6cc6ce.jpg: 800x800 1 sunglasses, 9.1ms\n",
            "Speed: 0.9ms pre-process, 7.5ms inference, 3.3ms postprocess per image at shape (1, 3, 800, 800)\n",
            "Results saved to \u001b[1mruns/detect/predict\u001b[0m\n"
          ]
        }
      ],
      "source": [
        "!yolo task=detect mode=predict model={best_weights_path} conf=0.25 source='{data_path}/test/images' save=True  # weight =best_weights_path  target ={data_path}/test/images"
      ]
    },
    {
      "cell_type": "code",
      "execution_count": 12,
      "metadata": {
        "id": "LEHhE2dHojRP"
      },
      "outputs": [],
      "source": [
        "!cp -r /content/runs /content/drive/MyDrive/hackaathon_dataset/runs\n"
      ]
    }
  ],
  "metadata": {
    "accelerator": "GPU",
    "colab": {
      "gpuType": "V100",
      "provenance": []
    },
    "kernelspec": {
      "display_name": "Python 3",
      "name": "python3"
    },
    "language_info": {
      "name": "python"
    }
  },
  "nbformat": 4,
  "nbformat_minor": 0
}
